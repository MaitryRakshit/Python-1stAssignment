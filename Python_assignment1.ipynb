{
 "cells": [
  {
   "cell_type": "code",
   "execution_count": 3,
   "metadata": {},
   "outputs": [
    {
     "name": "stdout",
     "output_type": "stream",
     "text": [
      "Love to learn Python\n"
     ]
    }
   ],
   "source": [
    "###Simple message \n",
    "a = \"Love to learn Python\"\n",
    "print(a)"
   ]
  },
  {
   "cell_type": "code",
   "execution_count": 4,
   "metadata": {},
   "outputs": [
    {
     "name": "stdout",
     "output_type": "stream",
     "text": [
      "I love learning to use Python.\n",
      "It's really satisfying!\n"
     ]
    }
   ],
   "source": [
    "###Store a message in a variable and print that message. \n",
    "###Then change the value of your variable to a new message and print the new message.\n",
    "msg = \"I love learning to use Python.\"\n",
    "print(msg)\n",
    "\n",
    "msg = \"It's really satisfying!\"\n",
    "print(msg)\n"
   ]
  },
  {
   "cell_type": "code",
   "execution_count": 7,
   "metadata": {},
   "outputs": [
    {
     "name": "stdout",
     "output_type": "stream",
     "text": [
      "Hello Eric would you like to learn some Python today?\n"
     ]
    }
   ],
   "source": [
    "###Store a person’s name in a variable and print a message to that person. \n",
    "name = \"Eric\"\n",
    "print (\"Hello\", name, \"would you like to learn some Python today?\") "
   ]
  },
  {
   "cell_type": "code",
   "execution_count": 8,
   "metadata": {},
   "outputs": [
    {
     "name": "stdout",
     "output_type": "stream",
     "text": [
      "Albert Einstein once said, \"A person who never made a mistake\n",
      "never tried anything new.\"\n"
     ]
    }
   ],
   "source": [
    "###Find a quote from a famous person you admire\n",
    "print('Albert Einstein once said, \"A person who never made a mistake')\n",
    "print('never tried anything new.\"')"
   ]
  },
  {
   "cell_type": "code",
   "execution_count": 11,
   "metadata": {},
   "outputs": [
    {
     "name": "stdout",
     "output_type": "stream",
     "text": [
      "Albert Einstein once said  \"A person who never made a mistake never tried anything new.\" \n"
     ]
    }
   ],
   "source": [
    "###Repeat Exercise 4\n",
    "famouse_person = \"Albert Einstein\"\n",
    "msg = ' \"A person who never made a mistake never tried anything new.\" '\n",
    "print(famouse_person,\"once said\",msg) "
   ]
  },
  {
   "cell_type": "code",
   "execution_count": 12,
   "metadata": {},
   "outputs": [
    {
     "name": "stdout",
     "output_type": "stream",
     "text": [
      "8\n",
      "8\n",
      "8\n",
      "8.0\n"
     ]
    }
   ],
   "source": [
    "### Write addition, subtraction, multiplication, and division operations\n",
    "print (5+3)\n",
    "print(10-2)\n",
    "print(4*2)\n",
    "print(40/5)"
   ]
  },
  {
   "cell_type": "code",
   "execution_count": 13,
   "metadata": {},
   "outputs": [
    {
     "name": "stdout",
     "output_type": "stream",
     "text": [
      "My favorite number is 50.\n"
     ]
    }
   ],
   "source": [
    "### Store your favourite number\n",
    "fav_num = 50\n",
    "msg = \"My favorite number is \" + str(fav_num) + \".\"\n",
    "\n",
    "print(msg)"
   ]
  },
  {
   "cell_type": "code",
   "execution_count": 15,
   "metadata": {},
   "outputs": [
    {
     "name": "stdout",
     "output_type": "stream",
     "text": [
      "Govind\n",
      "Shiv\n",
      "Dev\n"
     ]
    }
   ],
   "source": [
    "### Store the names of a few of your friends in a list called names\n",
    "names = ['Govind', 'Shiv', 'Dev']\n",
    "\n",
    "print(names[0])\n",
    "print(names[1])\n",
    "print(names[2])"
   ]
  },
  {
   "cell_type": "code",
   "execution_count": 16,
   "metadata": {},
   "outputs": [
    {
     "name": "stdout",
     "output_type": "stream",
     "text": [
      "Hello, Govind!\n",
      "Hello, Shiv!\n",
      "Hello, Dev!\n"
     ]
    }
   ],
   "source": [
    "###  instead of just printing each person’s name, print a message to them. \n",
    "names = ['Govind', 'Shiv', 'Dev']\n",
    "\n",
    "msg = \"Hello, \" + names[0].title() + \"!\"\n",
    "print(msg)\n",
    "\n",
    "msg = \"Hello, \" + names[1].title() + \"!\"\n",
    "print(msg)\n",
    "\n",
    "msg = \"Hello, \" + names[2].title() + \"!\"\n",
    "print(msg)"
   ]
  },
  {
   "cell_type": "code",
   "execution_count": 19,
   "metadata": {},
   "outputs": [
    {
     "name": "stdout",
     "output_type": "stream",
     "text": [
      " I would like to own a Mercedes Benz!\n",
      " I would like to own a Jaguar F-Type!\n",
      " I would like to own a Mercedes Benz!\n"
     ]
    }
   ],
   "source": [
    "### Think of your favourite mode of transportation\n",
    "car = ['Mercedes benz', 'jaguar f-type', 'rolls royce phantom']\n",
    "\n",
    "name = car[0].title()\n",
    "print( \" I would like to own a \" +car[0].title() + \"!\")\n",
    "\n",
    "name = car[1].title()\n",
    "print(\" I would like to own a \" +car[1].title() + \"!\")\n",
    "\n",
    "name = car[2].title()\n",
    "print(\" I would like to own a \" +car[0].title() + \"!\") "
   ]
  },
  {
   "cell_type": "code",
   "execution_count": null,
   "metadata": {},
   "outputs": [],
   "source": []
  }
 ],
 "metadata": {
  "kernelspec": {
   "display_name": "Python 3",
   "language": "python",
   "name": "python3"
  },
  "language_info": {
   "codemirror_mode": {
    "name": "ipython",
    "version": 3
   },
   "file_extension": ".py",
   "mimetype": "text/x-python",
   "name": "python",
   "nbconvert_exporter": "python",
   "pygments_lexer": "ipython3",
   "version": "3.8.3"
  }
 },
 "nbformat": 4,
 "nbformat_minor": 4
}
