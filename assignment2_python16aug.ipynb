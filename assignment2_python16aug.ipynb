{
 "cells": [
  {
   "cell_type": "code",
   "execution_count": 12,
   "metadata": {},
   "outputs": [
    {
     "name": "stdout",
     "output_type": "stream",
     "text": [
      "Enter your name:Jui\n",
      "Enter your age:25\n",
      "M/F: F\n",
      "Enter your income:70000\n",
      "Enter your expenses: 40000\n",
      "Hi Jui your age is 25 & gender is : F & your savings is : 30000\n"
     ]
    }
   ],
   "source": [
    "# class assignment\n",
    "name = input(\"Enter your name:\")\n",
    "age = int(input(\"Enter your age:\"))\n",
    "gender = input(\"M/F: \")\n",
    "income = int(input(\"Enter your income:\"))\n",
    "expns = int(input (\"Enter your expenses: \"))\n",
    "savings = income - expns\n",
    "print(f\"Hi\", name, \"your age is\",age, \"& gender is :\",gender, \"& your savings is :\", savings) \n"
   ]
  },
  {
   "cell_type": "code",
   "execution_count": 13,
   "metadata": {},
   "outputs": [
    {
     "name": "stdout",
     "output_type": "stream",
     "text": [
      "name:  Maitry Rakshit & email address:  maitry.rakshit@yahoo.in\n"
     ]
    }
   ],
   "source": [
    "# showing name & email address\n",
    "a = str (\"Maitry Rakshit\")\n",
    "b= str (\"maitry.rakshit@yahoo.in\")\n",
    "print(\"name: \",a, \"& email address: \",b)"
   ]
  },
  {
   "cell_type": "code",
   "execution_count": 10,
   "metadata": {},
   "outputs": [
    {
     "name": "stdout",
     "output_type": "stream",
     "text": [
      "Enter your name: Maitry\n",
      "Hello! Maitry\n"
     ]
    }
   ],
   "source": [
    "name = input(\"Enter your name: \")\n",
    "print(\"Hello!\", name)"
   ]
  },
  {
   "cell_type": "code",
   "execution_count": 14,
   "metadata": {},
   "outputs": [
    {
     "name": "stdout",
     "output_type": "stream",
     "text": [
      "Enter the width: 25\n",
      "Enter the length: 50\n",
      "The area of the room is: 1250.000000 meters\n"
     ]
    }
   ],
   "source": [
    "# area of a room \n",
    "width = float(input(\"Enter the width: \"))\n",
    "length = float(input(\"Enter the length: \")) \n",
    "area = width * length\n",
    "print(\"The area of the room is: %f meters\" %area)"
   ]
  },
  {
   "cell_type": "code",
   "execution_count": 16,
   "metadata": {},
   "outputs": [
    {
     "name": "stdout",
     "output_type": "stream",
     "text": [
      "Enter the length of the field : 500\n",
      "Enter the width of the field : 400\n",
      "There are : 4.591368 acres in the field \n"
     ]
    }
   ],
   "source": [
    "# area of field by acres\n",
    "ft_per_acre = 43560\n",
    "lent = float(input(\"Enter the length of the field : \"))\n",
    "widt = float(input(\"Enter the width of the field : \"))\n",
    "areas = (lent * widt)/ft_per_acre\n",
    "print(\"There are : %f acres in the field \"%areas)"
   ]
  },
  {
   "cell_type": "code",
   "execution_count": 17,
   "metadata": {},
   "outputs": [
    {
     "name": "stdout",
     "output_type": "stream",
     "text": [
      "number of container of 1 or less than 1lit: 10\n",
      "number of container of more than 1lit: 15\n",
      "Refund of bottles: 4.75\n"
     ]
    }
   ],
   "source": [
    "# Bottle Deposite\n",
    "a = int(input(\"number of container of 1 or less than 1lit: \"))\n",
    "b= int(input(\"number of container of more than 1lit: \"))\n",
    "c = a*0.10 + b*0.25\n",
    "print(\"Refund of bottles: %.2f\" %c)"
   ]
  },
  {
   "cell_type": "code",
   "execution_count": 18,
   "metadata": {},
   "outputs": [
    {
     "name": "stdout",
     "output_type": "stream",
     "text": [
      "Enter your Foodcharge amount: 5000\n",
      "Your Food Charge: 5000.000000\n",
      "Your Service Tax : 350.000000 \n",
      "Tip: 900.000000\n",
      "Your Total amout is: 6250.00 \n"
     ]
    }
   ],
   "source": [
    "# Tax and Tip \n",
    "Foodcharge = float(input(\"Enter your Foodcharge amount: \"))\n",
    "Tax = 0.07 * Foodcharge\n",
    "Tip = 0.18 * Foodcharge \n",
    "Total = Foodcharge + Tax + Tip \n",
    "print(\"Your Food Charge: %f\" %Foodcharge , \"Your Service Tax : %f \"%Tax , \"Tip: %f\" %Tip, \"Your Total amout is: %.2f \" %Total, sep=\"\\n\")"
   ]
  },
  {
   "cell_type": "code",
   "execution_count": 19,
   "metadata": {},
   "outputs": [
    {
     "name": "stdout",
     "output_type": "stream",
     "text": [
      "Enter a positive number: 10\n",
      " The sum of the first 10 positive integers :  55.0\n"
     ]
    }
   ],
   "source": [
    "#  Sum of the First n Positive Integers\n",
    "n = int(input (\"Enter a positive number: \")) \n",
    "sum = n * (n+1) / 2 \n",
    "print(\" The sum of the first\", n ,\"positive integers : \", sum)"
   ]
  },
  {
   "cell_type": "code",
   "execution_count": 11,
   "metadata": {},
   "outputs": [
    {
     "name": "stdout",
     "output_type": "stream",
     "text": [
      "Enter the number of widgets: 10\n",
      "Enter the number of gizmo: 20\n",
      " weight of 10 widgets &  20 gizmos, your total order is:  2990 grms\n"
     ]
    }
   ],
   "source": [
    "# Widgets and Gizmos\n",
    "widget = int (input(\"Enter the number of widgets: \"))\n",
    "gizmo = int (input(\"Enter the number of gizmo: \"))\n",
    "total = widget*75 + gizmo*112\n",
    "print(\" weight of\", widget, \"widgets & \",gizmo, \"gizmos,\", \"your total order is: \",total,\"grms\")\n"
   ]
  },
  {
   "cell_type": "code",
   "execution_count": 9,
   "metadata": {},
   "outputs": [
    {
     "name": "stdout",
     "output_type": "stream",
     "text": [
      "Enter the principle amount: 12000\n",
      "Total amount after 1st year:  12480.0\n",
      "Total amount after 2nd year:  12979.2\n",
      "Total amount after 3rd year:  13498.368\n"
     ]
    }
   ],
   "source": [
    "###Compound Interest\n",
    "p = float(input(\"Enter the principle amount: \")) \n",
    "r = 4\n",
    "t1=1\n",
    "t2=2\n",
    "t3 = 3\n",
    "\n",
    "c1 = p*(1+r/100)**t1\n",
    "c2 = p*(1+r/100)**t2\n",
    "c3 = p*(1+r/100)**t3\n",
    "print(\"Total amount after 1st year: \",c1)\n",
    "print(\"Total amount after 2nd year: \",c2)\n",
    "print(\"Total amount after 3rd year: \",c3)\n"
   ]
  },
  {
   "cell_type": "code",
   "execution_count": 10,
   "metadata": {},
   "outputs": [
    {
     "name": "stdout",
     "output_type": "stream",
     "text": [
      "Enter value of a: 15\n",
      "Enter value of b: 7\n",
      "a =  15 ,b =  7\n",
      "sum =  22\n",
      "subtraction of b by a =  -8\n",
      "Quotient :  2 remainder :  1\n",
      "Log10 a =  1.1760912590556813\n",
      "ab =  105\n"
     ]
    }
   ],
   "source": [
    "###Arithmetic \n",
    "a = int(input(\"Enter value of a: \"))\n",
    "b = int(input(\"Enter value of b: \"))\n",
    "print (\"a = \",a, \",b = \", b)\n",
    "sum = a + b\n",
    "print(\"sum = \",sum)\n",
    "diff = b - a\n",
    "print(\"subtraction of b by a = \", diff)\n",
    "qtnt = a//b\n",
    "remainder = a%b\n",
    "print (\"Quotient : \",qtnt, \"remainder : \",remainder)\n",
    "import math \n",
    "print (\"Log10 a = \",math.log10(a))\n",
    "print (\"ab = \", a*b)"
   ]
  },
  {
   "cell_type": "code",
   "execution_count": null,
   "metadata": {},
   "outputs": [],
   "source": []
  }
 ],
 "metadata": {
  "kernelspec": {
   "display_name": "Python 3",
   "language": "python",
   "name": "python3"
  },
  "language_info": {
   "codemirror_mode": {
    "name": "ipython",
    "version": 3
   },
   "file_extension": ".py",
   "mimetype": "text/x-python",
   "name": "python",
   "nbconvert_exporter": "python",
   "pygments_lexer": "ipython3",
   "version": "3.8.3"
  }
 },
 "nbformat": 4,
 "nbformat_minor": 4
}
